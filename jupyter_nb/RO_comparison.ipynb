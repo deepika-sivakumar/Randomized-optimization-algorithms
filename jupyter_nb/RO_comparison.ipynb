{
  "nbformat": 4,
  "nbformat_minor": 0,
  "metadata": {
    "colab": {
      "name": "RO_comparison.ipynb",
      "provenance": [],
      "collapsed_sections": [],
      "toc_visible": true
    },
    "kernelspec": {
      "name": "python3",
      "display_name": "Python 3"
    }
  },
  "cells": [
    {
      "cell_type": "code",
      "metadata": {
        "id": "Cf_Ix61tfDWX",
        "colab_type": "code",
        "colab": {}
      },
      "source": [
        "import numpy as np\n",
        "import datetime\n",
        "import matplotlib.pyplot as plt"
      ],
      "execution_count": 0,
      "outputs": []
    },
    {
      "cell_type": "code",
      "metadata": {
        "id": "RMn-SwsgfJQa",
        "colab_type": "code",
        "colab": {}
      },
      "source": [
        "def generate_graph(filename, title, x_label, y_label):\n",
        "    plt.xlabel(x_label)\n",
        "    plt.ylabel(y_label)\n",
        "    plt.title(title)\n",
        "    # plt.legend()\n",
        "    # plt.show()\n",
        "    plt.savefig(filename)\n",
        "    plt.close()"
      ],
      "execution_count": 0,
      "outputs": []
    },
    {
      "cell_type": "markdown",
      "metadata": {
        "id": "n1VDSaIMcMIj",
        "colab_type": "text"
      },
      "source": [
        "# Random Optimization algorithms Comparison"
      ]
    },
    {
      "cell_type": "code",
      "metadata": {
        "id": "1-jP2cjCb6Ty",
        "colab_type": "code",
        "colab": {}
      },
      "source": [
        "def one_max():\n",
        "  algorithms = ['RHC', 'SA', 'GA', 'MIMIC']\n",
        "  best_score_om = [46, 44, 50, 50]\n",
        "  time_taken_om = [0.00773, 0.006309, 0.554985, 19.869137]\n",
        "  fn_evals_om = [88, 214, 6039, 3221]\n",
        "  x = np.arange(4)\n",
        "  colors = ['coral', 'orange', 'mediumseagreen', 'cornflowerblue']\n",
        "  # Best Score achieved\n",
        "  plt.bar(x, height= best_score_om, color=colors) \n",
        "  plt.xticks(x, algorithms)\n",
        "  generate_graph(\"one_max_score\", \"One Max - Best Scores\", \"Algorithms\", \"Best Score Achieved\")\n",
        "\n",
        "  # Time taken to achieve that\n",
        "  plt.bar(x, height= time_taken_om, color=colors) \n",
        "  plt.xticks(x, algorithms)\n",
        "  generate_graph(\"one_max_time\", \"One Max - Running Time\", \"Algorithms\", \"Time taken to achieve that\")\n",
        "\n",
        "  # Time taken to achieve that\n",
        "  plt.bar(x, height= fn_evals_om, color=colors) \n",
        "  plt.xticks(x, algorithms)\n",
        "  generate_graph(\"one_max_evals\", \"One Max - Function evaluations\", \"Algorithms\", \"Function evaluations taken\")"
      ],
      "execution_count": 0,
      "outputs": []
    },
    {
      "cell_type": "code",
      "metadata": {
        "id": "JE4e1Ojtky9Q",
        "colab_type": "code",
        "colab": {}
      },
      "source": [
        "def cp():\n",
        "  algorithms = ['RHC', 'SA', 'GA', 'MIMIC']\n",
        "  best_score_om = [56, 84, 94, 85]\n",
        "  time_taken_om = [0.002085, 0.048171, 1.746986, 43.326225]\n",
        "  fn_evals_om = [13, 819, 12880, 6846]\n",
        "  x = np.arange(4)\n",
        "  colors = ['coral', 'orange', 'mediumseagreen', 'cornflowerblue']\n",
        "  # Best Score achieved\n",
        "  plt.bar(x, height= best_score_om, color=colors) \n",
        "  plt.xticks(x, algorithms)\n",
        "  generate_graph(\"cp_score\", \"Continuous Peaks - Best Scores\", \"Algorithms\", \"Best Score Achieved\")\n",
        "\n",
        "  # Time taken to achieve that\n",
        "  plt.bar(x, height= time_taken_om, color=colors) \n",
        "  plt.xticks(x, algorithms)\n",
        "  generate_graph(\"cp_time\", \"Continuous Peaks - Running Time\", \"Algorithms\", \"Time taken to achieve that\")\n",
        "\n",
        "  # Time taken to achieve that\n",
        "  plt.bar(x, height= fn_evals_om, color=colors) \n",
        "  plt.xticks(x, algorithms)\n",
        "  generate_graph(\"cp_evals\", \"Continuous Peaks - Function evaluations\", \"Algorithms\", \"Function evaluations taken\")"
      ],
      "execution_count": 0,
      "outputs": []
    },
    {
      "cell_type": "code",
      "metadata": {
        "id": "3hkB01NRmQPs",
        "colab_type": "code",
        "colab": {}
      },
      "source": [
        "def ks():\n",
        "  algorithms = ['RHC', 'SA', 'GA', 'MIMIC']\n",
        "  best_score_om = [41, 45, 50, 50]\n",
        "  time_taken_om = [0.002853, 0.007676, 0.287459, 0.608017]\n",
        "  fn_evals_om = [18, 28, 2615, 2413]\n",
        "  x = np.arange(4)\n",
        "  colors = ['coral', 'orange', 'mediumseagreen', 'cornflowerblue']\n",
        "  # Best Score achieved\n",
        "  plt.bar(x, height= best_score_om, color=colors) \n",
        "  plt.xticks(x, algorithms)\n",
        "  generate_graph(\"ks_score\", \"Knapsack - Best Scores\", \"Algorithms\", \"Best Score Achieved\")\n",
        "\n",
        "  # Time taken to achieve that\n",
        "  plt.bar(x, height= time_taken_om, color=colors) \n",
        "  plt.xticks(x, algorithms)\n",
        "  generate_graph(\"ks_time\", \"Knapsack - Running Time\", \"Algorithms\", \"Time taken to achieve that\")\n",
        "\n",
        "  # Time taken to achieve that\n",
        "  plt.bar(x, height= fn_evals_om, color=colors) \n",
        "  plt.xticks(x, algorithms)\n",
        "  generate_graph(\"ks_evals\", \"Knapsack - Function evaluations\", \"Algorithms\", \"Function evaluations taken\")"
      ],
      "execution_count": 0,
      "outputs": []
    },
    {
      "cell_type": "code",
      "metadata": {
        "id": "gMfZYMazfTG3",
        "colab_type": "code",
        "colab": {}
      },
      "source": [
        "one_max()"
      ],
      "execution_count": 0,
      "outputs": []
    },
    {
      "cell_type": "code",
      "metadata": {
        "id": "Ys1A22zYmIR2",
        "colab_type": "code",
        "colab": {}
      },
      "source": [
        "cp()"
      ],
      "execution_count": 0,
      "outputs": []
    },
    {
      "cell_type": "code",
      "metadata": {
        "id": "exOycyHwnNzC",
        "colab_type": "code",
        "colab": {}
      },
      "source": [
        "ks()"
      ],
      "execution_count": 0,
      "outputs": []
    }
  ]
}