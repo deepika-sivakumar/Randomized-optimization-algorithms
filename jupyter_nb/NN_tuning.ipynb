{
  "nbformat": 4,
  "nbformat_minor": 0,
  "metadata": {
    "colab": {
      "name": "NN_tuning.ipynb",
      "provenance": [],
      "collapsed_sections": []
    },
    "kernelspec": {
      "name": "python3",
      "display_name": "Python 3"
    }
  },
  "cells": [
    {
      "cell_type": "markdown",
      "metadata": {
        "id": "UOnOREh9KI_O",
        "colab_type": "text"
      },
      "source": [
        "# **Tuning (finding optimal weights) for Neural Networks**"
      ]
    },
    {
      "cell_type": "code",
      "metadata": {
        "id": "hgHs3Jk0NXmr",
        "colab_type": "code",
        "colab": {}
      },
      "source": [
        "# pip install mlrose_hiive"
      ],
      "execution_count": 0,
      "outputs": []
    },
    {
      "cell_type": "code",
      "metadata": {
        "id": "F6tSmN-LNabF",
        "colab_type": "code",
        "colab": {}
      },
      "source": [
        "import mlrose_hiive\n",
        "import numpy as np\n",
        "import datetime\n",
        "import matplotlib.pyplot as plt\n",
        "import pandas as pd\n",
        "from sklearn.model_selection import train_test_split\n",
        "from sklearn.metrics import accuracy_score\n",
        "from sklearn.preprocessing import MinMaxScaler, OneHotEncoder"
      ],
      "execution_count": 0,
      "outputs": []
    },
    {
      "cell_type": "markdown",
      "metadata": {
        "id": "0yBXy2olKSAV",
        "colab_type": "text"
      },
      "source": [
        "## Assignment 1 parameters"
      ]
    },
    {
      "cell_type": "code",
      "metadata": {
        "id": "rPJdKizJKVbd",
        "colab_type": "code",
        "colab": {}
      },
      "source": [
        "# Used sklearn's MLPClassifier\n",
        "# 3 hidden layers\n",
        "# hidden layer sizes = 30 \n",
        "# mlp_model = MLPClassifier(hidden_layer_sizes=(30, 30, 30), random_state=random_seed)\n",
        "# util.plot_lc_nn(mlp_model=mlp_model, X=X, y=y, train_sizes=train_sizes, graph_name='nn/nn_wine_tuned_')\n"
      ],
      "execution_count": 0,
      "outputs": []
    },
    {
      "cell_type": "markdown",
      "metadata": {
        "id": "zCQfonNHYOsD",
        "colab_type": "text"
      },
      "source": [
        "# Generate graphs"
      ]
    },
    {
      "cell_type": "code",
      "metadata": {
        "id": "A0Xxdma8X-sj",
        "colab_type": "code",
        "colab": {}
      },
      "source": [
        "def generate_graph(filename, title, x_label, y_label):\n",
        "    plt.xlabel(x_label)\n",
        "    plt.ylabel(y_label)\n",
        "    plt.title(title)\n",
        "    # plt.legend()\n",
        "    # plt.show()\n",
        "    plt.savefig(filename)\n",
        "    plt.close()"
      ],
      "execution_count": 0,
      "outputs": []
    },
    {
      "cell_type": "markdown",
      "metadata": {
        "id": "O8E7zpsqLTKR",
        "colab_type": "text"
      },
      "source": [
        "# Wine quality dataset from Assignment 1"
      ]
    },
    {
      "cell_type": "code",
      "metadata": {
        "id": "B7N3guVz7Ijv",
        "colab_type": "code",
        "colab": {
          "base_uri": "https://localhost:8080/",
          "height": 35
        },
        "outputId": "58822b20-3faf-4684-c784-a4563f15045b"
      },
      "source": [
        "random_seed = 7\n",
        "df = pd.read_csv('winequality-white.csv', sep=';')\n",
        "df = df.dropna()\n",
        "print('data size***********', df.shape)\n",
        "# df = df[df.quality != 9]\n",
        "# Let us keep aside data for final testing, since we are going to employ cross-validation\n",
        "data_X = df.iloc[:, :-1]\n",
        "data_y = df.iloc[:, -1]"
      ],
      "execution_count": 83,
      "outputs": [
        {
          "output_type": "stream",
          "text": [
            "data size*********** (4898, 12)\n"
          ],
          "name": "stdout"
        }
      ]
    },
    {
      "cell_type": "code",
      "metadata": {
        "id": "CzL_KXDGXYZu",
        "colab_type": "code",
        "colab": {
          "base_uri": "https://localhost:8080/",
          "height": 87
        },
        "outputId": "855e754b-e32c-4297-fb3a-c202c8cd7a72"
      },
      "source": [
        "X_train, X_test, y_train, y_test = train_test_split(data_X, data_y, test_size=0.2, random_state=random_seed)\n",
        "print('X_train shape: ',X_train.shape)\n",
        "print('y_train shape: ',y_train.shape)\n",
        "print('X_test shape: ',X_test.shape)\n",
        "print('y_test shape: ',y_test.shape)"
      ],
      "execution_count": 84,
      "outputs": [
        {
          "output_type": "stream",
          "text": [
            "X_train shape:  (3918, 11)\n",
            "y_train shape:  (3918,)\n",
            "X_test shape:  (980, 11)\n",
            "y_test shape:  (980,)\n"
          ],
          "name": "stdout"
        }
      ]
    },
    {
      "cell_type": "code",
      "metadata": {
        "id": "OTI-RYl_ZQZJ",
        "colab_type": "code",
        "colab": {}
      },
      "source": [
        "# Normalize feature data\n",
        "scaler = MinMaxScaler()\n",
        "\n",
        "X_train_scaled = scaler.fit_transform(X_train)\n",
        "X_test_scaled = scaler.transform(X_test)"
      ],
      "execution_count": 0,
      "outputs": []
    },
    {
      "cell_type": "code",
      "metadata": {
        "id": "UMSypfhwYjO1",
        "colab_type": "code",
        "colab": {}
      },
      "source": [
        "# One hot encode target values\n",
        "one_hot = OneHotEncoder()\n",
        "\n",
        "y_train_hot = one_hot.fit_transform(y_train.values.reshape(-1, 1)).todense()\n",
        "y_test_hot = one_hot.transform(y_test.values.reshape(-1, 1)).todense()"
      ],
      "execution_count": 0,
      "outputs": []
    },
    {
      "cell_type": "code",
      "metadata": {
        "id": "o5-b9OAtZgVE",
        "colab_type": "code",
        "colab": {
          "base_uri": "https://localhost:8080/",
          "height": 87
        },
        "outputId": "f784d7c8-f4f2-4a9f-dd1f-c7d7b7cadbeb"
      },
      "source": [
        "print('X_train_scaled shape: ',X_train_scaled.shape)\n",
        "print('y_train_hot shape: ',y_train_hot.shape)\n",
        "print('X_test_scaled shape: ',X_test_scaled.shape)\n",
        "print('y_test_hot shape: ',y_test_hot.shape)"
      ],
      "execution_count": 87,
      "outputs": [
        {
          "output_type": "stream",
          "text": [
            "X_train_scaled shape:  (3918, 11)\n",
            "y_train_hot shape:  (3918, 7)\n",
            "X_test_scaled shape:  (980, 11)\n",
            "y_test_hot shape:  (980, 7)\n"
          ],
          "name": "stdout"
        }
      ]
    },
    {
      "cell_type": "markdown",
      "metadata": {
        "id": "8c9mzlsYTLR8",
        "colab_type": "text"
      },
      "source": [
        "# Random hill climbing"
      ]
    },
    {
      "cell_type": "code",
      "metadata": {
        "id": "ZYC61cWDLulW",
        "colab_type": "code",
        "colab": {}
      },
      "source": [
        "def rhc(X_train, X_test, y_train, y_test):\n",
        "  # Initialize neural network object and fit object\n",
        "  nn_rhc = mlrose_hiive.NeuralNetwork(hidden_nodes = [3], activation = 'relu',\n",
        "                                  algorithm = 'random_hill_climb', max_iters = 1000,\n",
        "                                  is_classifier = True, learning_rate = 0.0001,\n",
        "                                  clip_max = 5, max_attempts = 100,\n",
        "                                  random_state = random_seed, curve=True)\n",
        "  start = datetime.datetime.now()\n",
        "  nn_rhc.fit(X_train, y_train)\n",
        "  finish = datetime.datetime.now()\n",
        "  nn_rhc_fittime = (finish - start).total_seconds()\n",
        "  nn_rhc_fitness = nn_rhc.fitness_curve\n",
        "  \n",
        "  \n",
        "  # Predict labels for train set and assess accuracy\n",
        "  y_train_pred = nn_rhc.predict(X_train)\n",
        "  y_train_accuracy = accuracy_score(y_train, y_train_pred)\n",
        "  \n",
        "  # Predict labels for test set and assess accuracy\n",
        "  y_test_pred = nn_rhc.predict(X_test)\n",
        "  y_test_accuracy = accuracy_score(y_test, y_test_pred)\n",
        "\n",
        "  print('----------Neural Networks - Random Hill Climbing------------')\n",
        "  print('Training score: ', y_train_accuracy)\n",
        "  print('Test Score: ', y_test_accuracy)\n",
        "  print('Fit Time: ', nn_rhc_fittime)\n",
        "  return nn_rhc_fitness\n",
        "  \n",
        "\n"
      ],
      "execution_count": 0,
      "outputs": []
    },
    {
      "cell_type": "markdown",
      "metadata": {
        "id": "bIo0Z4HfU2Tv",
        "colab_type": "text"
      },
      "source": [
        "# Simulated Annealing"
      ]
    },
    {
      "cell_type": "code",
      "metadata": {
        "id": "oYRQp_nNU5FM",
        "colab_type": "code",
        "colab": {}
      },
      "source": [
        "def sa(X_train, X_test, y_train, y_test):\n",
        "  # Initialize neural network object and fit object\n",
        "  nn_sa = mlrose_hiive.NeuralNetwork(hidden_nodes = [3], activation = 'relu',\n",
        "                                  algorithm = 'simulated_annealing', max_iters = 1000,\n",
        "                                  is_classifier = True, learning_rate = 0.0001,\n",
        "                                  clip_max = 5, max_attempts = 100,\n",
        "                                  random_state = random_seed, curve=True)\n",
        "  start = datetime.datetime.now()\n",
        "  nn_sa.fit(X_train, y_train)\n",
        "  finish = datetime.datetime.now()\n",
        "  nn_sa_fittime = (finish - start).total_seconds()\n",
        "  \n",
        "  nn_sa_fitness = nn_sa.fitness_curve\n",
        "  # Predict labels for train set and assess accuracy\n",
        "  y_train_pred = nn_sa.predict(X_train)\n",
        "  y_train_accuracy = accuracy_score(y_train, y_train_pred)\n",
        "\n",
        "  # Predict labels for test set and assess accuracy\n",
        "  y_test_pred = nn_sa.predict(X_test)\n",
        "  y_test_accuracy = accuracy_score(y_test, y_test_pred)\n",
        "\n",
        "  print('----------Neural Networks - Simulated Annealing------------')\n",
        "  print('Training score: ', y_train_accuracy)\n",
        "  print('Test Score: ', y_test_accuracy)\n",
        "  print('Fit Time: ', nn_sa_fittime)\n",
        "  return nn_sa_fitness"
      ],
      "execution_count": 0,
      "outputs": []
    },
    {
      "cell_type": "markdown",
      "metadata": {
        "id": "ziKo1qqFVZSB",
        "colab_type": "text"
      },
      "source": [
        "# Genetic Algorithm"
      ]
    },
    {
      "cell_type": "code",
      "metadata": {
        "id": "rDJcUHhxVb3H",
        "colab_type": "code",
        "colab": {}
      },
      "source": [
        "def ga(X_train, X_test, y_train, y_test):\n",
        "  # Initialize neural network object and fit object\n",
        "  nn_ga = mlrose_hiive.NeuralNetwork(hidden_nodes = [3], activation = 'relu',\n",
        "                                  algorithm = 'genetic_alg', max_iters = 1000,\n",
        "                                  is_classifier = True, learning_rate = 0.0001,\n",
        "                                  clip_max = 5, max_attempts = 100,\n",
        "                                  random_state = random_seed, curve=True)\n",
        "  start = datetime.datetime.now()\n",
        "  nn_ga.fit(X_train, y_train)\n",
        "  finish = datetime.datetime.now()\n",
        "  nn_ga_fittime = (finish - start).total_seconds()\n",
        "\n",
        "  nn_ga_fitness = nn_ga.fitness_curve\n",
        "  # Predict labels for train set and assess accuracy\n",
        "  y_train_pred = nn_ga.predict(X_train)\n",
        "  y_train_accuracy = accuracy_score(y_train, y_train_pred)\n",
        "\n",
        "  # Predict labels for test set and assess accuracy\n",
        "  y_test_pred = nn_ga.predict(X_test)\n",
        "  y_test_accuracy = accuracy_score(y_test, y_test_pred)\n",
        "\n",
        "  print('----------Neural Networks - Genetic Algorithm------------')\n",
        "  print('Training score: ', y_train_accuracy)\n",
        "  print('Test Score: ', y_test_accuracy)\n",
        "  print('Fit Time: ', nn_ga_fittime)\n",
        "  return nn_ga_fitness"
      ],
      "execution_count": 0,
      "outputs": []
    },
    {
      "cell_type": "markdown",
      "metadata": {
        "id": "g9GBcPoEVs1v",
        "colab_type": "text"
      },
      "source": [
        "# Call the algorithms and plot graphs"
      ]
    },
    {
      "cell_type": "code",
      "metadata": {
        "id": "hCcZLwEeVwao",
        "colab_type": "code",
        "colab": {
          "base_uri": "https://localhost:8080/",
          "height": 559
        },
        "outputId": "c547144c-f84b-4acf-bc3b-753332d47aba"
      },
      "source": [
        "# No of iterations\n",
        "iterations = range(1, 1001, 1)\n",
        "nn_rhc_fitness = rhc(X_train_scaled, X_test_scaled, y_train_hot, y_test_hot)\n",
        "nn_sa_fitness = sa(X_train_scaled, X_test_scaled, y_train_hot, y_test_hot)\n",
        "nn_ga_fitness = ga(X_train_scaled, X_test_scaled, y_train_hot, y_test_hot)\n",
        "\n",
        "print('nn_rhc_fitness.shape: ', nn_rhc_fitness.shape)\n",
        "print('nn_sa_fitness.shape: ', nn_sa_fitness.shape)\n",
        "print('nn_ga_fitness.shape: ', nn_ga_fitness.shape)\n",
        "\n",
        "# Plot the fitness vs iterations for each algorithm\n",
        "plt.plot(iterations, nn_rhc_fitness, label=\"RHC\")\n",
        "plt.plot(iterations, nn_sa_fitness, label=\"SA\")\n",
        "plt.plot(iterations, nn_ga_fitness, label=\"GA\")\n",
        "plt.legend(loc=\"best\")\n",
        "plt.grid()\n",
        "generate_graph(\"nn_fitness\", \"Neural Network - RHC, SA, GA\", \"Iterations\", \"Fitness\")\n"
      ],
      "execution_count": 92,
      "outputs": [
        {
          "output_type": "stream",
          "text": [
            "----------Neural Networks - Random Hill Climbing------------\n",
            "Training score:  0.22077590607452782\n",
            "Test Score:  0.20204081632653062\n",
            "Fit Time:  11.030777\n",
            "----------Neural Networks - Simulated Annealing------------\n",
            "Training score:  0.21311893823379274\n",
            "Test Score:  0.19795918367346937\n",
            "Fit Time:  12.34732\n",
            "----------Neural Networks - Genetic Algorithm------------\n",
            "Training score:  0.5063808065339459\n",
            "Test Score:  0.5387755102040817\n",
            "Fit Time:  1274.722984\n",
            "nn_rhc_fitness.shape:  (1000,)\n",
            "nn_sa_fitness.shape:  (1000,)\n",
            "nn_ga_fitness.shape:  (1000,)\n"
          ],
          "name": "stdout"
        },
        {
          "output_type": "display_data",
          "data": {
            "image/png": "[encoded data removed]",
            "text/plain": [
              "<Figure size 432x288 with 1 Axes>"
            ]
          },
          "metadata": {
            "tags": []
          }
        }
      ]
    },
    {
      "cell_type": "code",
      "metadata": {
        "id": "dxeagMORqlU3",
        "colab_type": "code",
        "colab": {}
      },
      "source": [
        "algorithms = ['RHC', 'SA', 'GA']\n",
        "train_accuracy = [0.22077590607452782, 0.21311893823379274, 0.5063808065339459]\n",
        "test_accuracy = [0.20204081632653062, 0.19795918367346937, 0.5387755102040817]\n",
        "fit_times = [11.030777, 12.34732, 1274.722984]\n",
        "x = np.arange(3)\n",
        "colors = ['coral', 'orange', 'mediumseagreen']\n",
        "\n",
        "# Train accuracy score\n",
        "plt.bar(x, height= train_accuracy, color=colors) \n",
        "plt.xticks(x, algorithms)\n",
        "generate_graph(\"nn_train_score\", \"Neural Network - Train Accuracy Score\", \"Algorithms\", \"Accuracy score\")\n",
        "\n",
        "# Test accuracy score\n",
        "plt.bar(x, height= test_accuracy, color=colors) \n",
        "plt.xticks(x, algorithms)\n",
        "generate_graph(\"nn_test_score\", \"Neural Network - Test Accuracy Score\", \"Algorithms\", \"Accuracy score\")\n",
        "\n",
        "# Fit time\n",
        "plt.bar(x, height= fit_times, color=colors) \n",
        "plt.xticks(x, algorithms)\n",
        "generate_graph(\"nn_fit_time\", \"Neural Network - Fit Time\", \"Algorithms\", \"Fit time(seconds)\")\n"
      ],
      "execution_count": 0,
      "outputs": []
    }
  ]
}